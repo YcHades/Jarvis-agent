{
 "cells": [
  {
   "cell_type": "code",
   "id": "initial_id",
   "metadata": {
    "collapsed": true
   },
   "source": [
    "import os\n",
    "os.chdir('../')\n",
    "\n",
    "from agent import JarvisAgent\n",
    "from prompt import jarvis_sys_prompt\n",
    "\n",
    "jarvis = JarvisAgent(init_model_name=\"gemini\", sys_prompt_template=jarvis_sys_prompt)"
   ],
   "outputs": [],
   "execution_count": null
  },
  {
   "metadata": {},
   "cell_type": "code",
   "source": "await jarvis.chat(\"获取浏览器状态三次\")",
   "id": "10a91b60b97e6298",
   "outputs": [],
   "execution_count": null
  },
  {
   "metadata": {},
   "cell_type": "code",
   "source": "jarvis.save_trajectory()",
   "id": "fb5b8efc499e0edb",
   "outputs": [],
   "execution_count": null
  }
 ],
 "metadata": {
  "kernelspec": {
   "display_name": "Python 3",
   "language": "python",
   "name": "python3"
  },
  "language_info": {
   "codemirror_mode": {
    "name": "ipython",
    "version": 2
   },
   "file_extension": ".py",
   "mimetype": "text/x-python",
   "name": "python",
   "nbconvert_exporter": "python",
   "pygments_lexer": "ipython2",
   "version": "2.7.6"
  }
 },
 "nbformat": 4,
 "nbformat_minor": 5
}
