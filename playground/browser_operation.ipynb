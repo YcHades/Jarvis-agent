{
 "cells": [
  {
   "cell_type": "code",
   "id": "initial_id",
   "metadata": {
    "collapsed": true,
    "ExecuteTime": {
     "end_time": "2025-07-24T02:22:27.249371Z",
     "start_time": "2025-07-24T02:22:22.237824Z"
    }
   },
   "source": [
    "import os\n",
    "os.chdir('../')\n",
    "\n",
    "from toolbox.browse import BrowserUseLight\n",
    "\n",
    "browser = BrowserUseLight()\n",
    "await browser._init_browser_session()"
   ],
   "outputs": [
    {
     "name": "stderr",
     "output_type": "stream",
     "text": [
      "/home/yangcheng/miniconda3/envs/jarvis/lib/python3.12/site-packages/requests/__init__.py:86: RequestsDependencyWarning: Unable to find acceptable character detection dependency (chardet or charset_normalizer).\n",
      "  warnings.warn(\n"
     ]
    },
    {
     "name": "stdout",
     "output_type": "stream",
     "text": [
      "INFO     [browser_use.BrowserSession🆂 37b9:None #20] 🎭 Launching new local browser playwright:chromium keep_alive=True user_data_dir= ~/.config/browseruse/profiles/default\n",
      "WARNING  [browser_use.BrowserSession🆂 37b9:None #20] ⚠️ SingletonLock conflict detected. Profile at ~/.config/browseruse/profiles/default is locked. Using temporary profile instead: /tmp/browseruse-tmp-singleton-rfp8zwci\n",
      "INFO     [browser_use.BrowserSession🆂 37b9:None #20]  ↳ Spawning Chrome subprocess listening on CDP http://127.0.0.1:34677/ with user_data_dir= /tmp/browseruse-tmp-singleton-rfp8zwci\n",
      "INFO     [browser_use.BrowserSession🆂 37b9:34677 #20] 🌎 Connecting to newly spawned browser via CDP http://127.0.0.1:34677/ -> browser_pid=2090501 (local)\n",
      "INFO     [browser_use.telemetry.service] Anonymized telemetry enabled. See https://docs.browser-use.com/development/telemetry for more information.\n"
     ]
    }
   ],
   "execution_count": 1
  },
  {
   "metadata": {
    "ExecuteTime": {
     "end_time": "2025-07-24T02:22:30.968787Z",
     "start_time": "2025-07-24T02:22:29.346146Z"
    }
   },
   "cell_type": "code",
   "source": "await browser._navigate(url='http://localhost:3000')",
   "id": "c4cd942fcd098bed",
   "outputs": [
    {
     "data": {
      "text/plain": [
       "'Navigated to: http://localhost:3000'"
      ]
     },
     "execution_count": 2,
     "metadata": {},
     "output_type": "execute_result"
    }
   ],
   "execution_count": 2
  },
  {
   "metadata": {
    "ExecuteTime": {
     "end_time": "2025-07-24T02:24:05.041060Z",
     "start_time": "2025-07-24T02:24:01.098537Z"
    }
   },
   "cell_type": "code",
   "source": "await browser._extract_content('请详细地描述当前页面，使用中文', True)",
   "id": "aa51453b17ee87ea",
   "outputs": [
    {
     "name": "stdout",
     "output_type": "stream",
     "text": [
      "INFO     [browser_use.controller.service] 📄 Page Link: http://localhost:3000/home\n",
      "Query: 请详细地描述当前页面，使用中文\n",
      "Extracted Content:\n",
      "```json\n",
      "{\n",
      "    \"explanation\": \"该页面似乎是一个用于登录和注册新帐户的门户页面。页面上有一个公司标志、登录表单、忘记密码选项和注册新帐户的选项。继续操作表示您同意其服务条款、隐私政策和法律声明。此外，这个页面的聊天平台是由开源平台Rocket.Chat提供支持的。具体的功能和详细信息在这个页面上并没有详细描述。\",\n",
      "    \"available_information\": \"该页面主要是一个登录和注册界面，包含服务条款、隐私政策和法律声明的链接。\",\n",
      "    \"missing_information\": \"没有提供关于Rocket.Chat平台的详细描述或功能信息。\"\n",
      "}\n",
      "```\n"
     ]
    },
    {
     "data": {
      "text/plain": [
       "'============== BROWSER INFO BEGIN ==============\\n\"Page Link: http://localhost:3000/home\\\\nQuery: \\\\u8bf7\\\\u8be6\\\\u7ec6\\\\u5730\\\\u63cf\\\\u8ff0\\\\u5f53\\\\u524d\\\\u9875\\\\u9762\\\\uff0c\\\\u4f7f\\\\u7528\\\\u4e2d\\\\u6587\\\\nExtracted Content:\\\\n```json\\\\n{\\\\n    \\\\\"explanation\\\\\": \\\\\"\\\\u8be5\\\\u9875\\\\u9762\\\\u4f3c\\\\u4e4e\\\\u662f\\\\u4e00\\\\u4e2a\\\\u7528\\\\u4e8e\\\\u767b\\\\u5f55\\\\u548c\\\\u6ce8\\\\u518c\\\\u65b0\\\\u5e10\\\\u6237\\\\u7684\\\\u95e8\\\\u6237\\\\u9875\\\\u9762\\\\u3002\\\\u9875\\\\u9762\\\\u4e0a\\\\u6709\\\\u4e00\\\\u4e2a\\\\u516c\\\\u53f8\\\\u6807\\\\u5fd7\\\\u3001\\\\u767b\\\\u5f55\\\\u8868\\\\u5355\\\\u3001\\\\u5fd8\\\\u8bb0\\\\u5bc6\\\\u7801\\\\u9009\\\\u9879\\\\u548c\\\\u6ce8\\\\u518c\\\\u65b0\\\\u5e10\\\\u6237\\\\u7684\\\\u9009\\\\u9879\\\\u3002\\\\u7ee7\\\\u7eed\\\\u64cd\\\\u4f5c\\\\u8868\\\\u793a\\\\u60a8\\\\u540c\\\\u610f\\\\u5176\\\\u670d\\\\u52a1\\\\u6761\\\\u6b3e\\\\u3001\\\\u9690\\\\u79c1\\\\u653f\\\\u7b56\\\\u548c\\\\u6cd5\\\\u5f8b\\\\u58f0\\\\u660e\\\\u3002\\\\u6b64\\\\u5916\\\\uff0c\\\\u8fd9\\\\u4e2a\\\\u9875\\\\u9762\\\\u7684\\\\u804a\\\\u5929\\\\u5e73\\\\u53f0\\\\u662f\\\\u7531\\\\u5f00\\\\u6e90\\\\u5e73\\\\u53f0Rocket.Chat\\\\u63d0\\\\u4f9b\\\\u652f\\\\u6301\\\\u7684\\\\u3002\\\\u5177\\\\u4f53\\\\u7684\\\\u529f\\\\u80fd\\\\u548c\\\\u8be6\\\\u7ec6\\\\u4fe1\\\\u606f\\\\u5728\\\\u8fd9\\\\u4e2a\\\\u9875\\\\u9762\\\\u4e0a\\\\u5e76\\\\u6ca1\\\\u6709\\\\u8be6\\\\u7ec6\\\\u63cf\\\\u8ff0\\\\u3002\\\\\",\\\\n    \\\\\"available_information\\\\\": \\\\\"\\\\u8be5\\\\u9875\\\\u9762\\\\u4e3b\\\\u8981\\\\u662f\\\\u4e00\\\\u4e2a\\\\u767b\\\\u5f55\\\\u548c\\\\u6ce8\\\\u518c\\\\u754c\\\\u9762\\\\uff0c\\\\u5305\\\\u542b\\\\u670d\\\\u52a1\\\\u6761\\\\u6b3e\\\\u3001\\\\u9690\\\\u79c1\\\\u653f\\\\u7b56\\\\u548c\\\\u6cd5\\\\u5f8b\\\\u58f0\\\\u660e\\\\u7684\\\\u94fe\\\\u63a5\\\\u3002\\\\\",\\\\n    \\\\\"missing_information\\\\\": \\\\\"\\\\u6ca1\\\\u6709\\\\u63d0\\\\u4f9b\\\\u5173\\\\u4e8eRocket.Chat\\\\u5e73\\\\u53f0\\\\u7684\\\\u8be6\\\\u7ec6\\\\u63cf\\\\u8ff0\\\\u6216\\\\u529f\\\\u80fd\\\\u4fe1\\\\u606f\\\\u3002\\\\\"\\\\n}\\\\n```\"\\n============== BROWSER INFO END =============='"
      ]
     },
     "execution_count": 4,
     "metadata": {},
     "output_type": "execute_result"
    }
   ],
   "execution_count": 4
  },
  {
   "metadata": {},
   "cell_type": "code",
   "source": "await browser._type_text(72, \"你好\")",
   "id": "70c347686a02c815",
   "outputs": [],
   "execution_count": null
  },
  {
   "metadata": {},
   "cell_type": "code",
   "source": "await browser._click(34)",
   "id": "7f023e60987a8458",
   "outputs": [],
   "execution_count": null
  },
  {
   "metadata": {},
   "cell_type": "code",
   "source": "await browser._send_keys('Control+A')",
   "id": "c00c37459d506d8e",
   "outputs": [],
   "execution_count": null
  },
  {
   "metadata": {
    "ExecuteTime": {
     "end_time": "2025-07-18T02:35:59.356229Z",
     "start_time": "2025-07-18T02:35:53.088258Z"
    }
   },
   "cell_type": "code",
   "source": [
    "x = await browser._get_browser_state(\"网页中有什么\")\n",
    "print(x)"
   ],
   "id": "3bd15df8dfe0b93a",
   "outputs": [
    {
     "name": "stdout",
     "output_type": "stream",
     "text": [
      "INFO     [browser_use.BrowserSession🆂 95b8:41497 #60] ➡️ Page navigation [0]localhost:3000/home took 0.51s\n",
      "============== BROWSER INFO BEGIN ==============\n",
      "{\n",
      "  \"url\": \"http://localhost:3000/home\",\n",
      "  \"title\": \"Rocket.Chat\",\n",
      "  \"tabs\": [\n",
      "    {\n",
      "      \"url\": \"http://localhost:3000/home\",\n",
      "      \"title\": \"Rocket.Chat\"\n",
      "    }\n",
      "  ],\n",
      "  \"interactive_elements\": [\n",
      "    {\n",
      "      \"index\": 3,\n",
      "      \"tag\": \"a\",\n",
      "      \"text\": \"<a/>\",\n",
      "      \"sub_element_index\": [],\n",
      "      \"href\": \"/\"\n",
      "    },\n",
      "    {\n",
      "      \"index\": 2,\n",
      "      \"tag\": \"div\",\n",
      "      \"text\": \"<div/>\",\n",
      "      \"sub_element_index\": [\n",
      "        3\n",
      "      ]\n",
      "    },\n",
      "    {\n",
      "      \"index\": 6,\n",
      "      \"tag\": \"input\",\n",
      "      \"text\": \"<input name=emailOrUsername type=text placeholder=Email or userna.../>\",\n",
      "      \"sub_element_index\": [],\n",
      "      \"placeholder\": \"Email or username\"\n",
      "    },\n",
      "    {\n",
      "      \"index\": 5,\n",
      "      \"tag\": \"label\",\n",
      "      \"text\": \"<label/>\",\n",
      "      \"sub_element_index\": [\n",
      "        6\n",
      "      ]\n",
      "    },\n",
      "    {\n",
      "      \"index\": 8,\n",
      "      \"tag\": \"input\",\n",
      "      \"text\": \"<input name=pass type=password placeholder=Password/>\",\n",
      "      \"sub_element_index\": [],\n",
      "      \"placeholder\": \"Password\"\n",
      "    },\n",
      "    {\n",
      "      \"index\": 7,\n",
      "      \"tag\": \"label\",\n",
      "      \"text\": \"<label/>\",\n",
      "      \"sub_element_index\": [\n",
      "        8\n",
      "      ]\n",
      "    },\n",
      "    {\n",
      "      \"index\": 9,\n",
      "      \"tag\": \"button\",\n",
      "      \"text\": \"<button >Login/>\",\n",
      "      \"sub_element_index\": []\n",
      "    },\n",
      "    {\n",
      "      \"index\": 10,\n",
      "      \"tag\": \"button\",\n",
      "      \"text\": \"<button type=button>Forgot your password?/>\",\n",
      "      \"sub_element_index\": []\n",
      "    },\n",
      "    {\n",
      "      \"index\": 11,\n",
      "      \"tag\": \"button\",\n",
      "      \"text\": \"<button type=button>Register a new account/>\",\n",
      "      \"sub_element_index\": []\n",
      "    },\n",
      "    {\n",
      "      \"index\": 4,\n",
      "      \"tag\": \"form\",\n",
      "      \"text\": \"<form/>\",\n",
      "      \"sub_element_index\": [\n",
      "        5,\n",
      "        6,\n",
      "        7,\n",
      "        8,\n",
      "        9,\n",
      "        10,\n",
      "        11\n",
      "      ]\n",
      "    },\n",
      "    {\n",
      "      \"index\": 12,\n",
      "      \"tag\": \"a\",\n",
      "      \"text\": \"<a >Terms of Service/>\",\n",
      "      \"sub_element_index\": [],\n",
      "      \"href\": \"terms-of-service\"\n",
      "    },\n",
      "    {\n",
      "      \"index\": 13,\n",
      "      \"tag\": \"a\",\n",
      "      \"text\": \"<a >Privacy Policy/>\",\n",
      "      \"sub_element_index\": [],\n",
      "      \"href\": \"privacy-policy\"\n",
      "    },\n",
      "    {\n",
      "      \"index\": 14,\n",
      "      \"tag\": \"a\",\n",
      "      \"text\": \"<a >Legal Notice/>\",\n",
      "      \"sub_element_index\": [],\n",
      "      \"href\": \"legal-notice\"\n",
      "    },\n",
      "    {\n",
      "      \"index\": 15,\n",
      "      \"tag\": \"a\",\n",
      "      \"text\": \"<a >Open Source Chat Platform Rocket.Chat/>\",\n",
      "      \"sub_element_index\": [],\n",
      "      \"href\": \"https://rocket.chat\"\n",
      "    },\n",
      "    {\n",
      "      \"index\": 16,\n",
      "      \"tag\": \"div\",\n",
      "      \"text\": \"<div/>\",\n",
      "      \"sub_element_index\": []\n",
      "    },\n",
      "    {\n",
      "      \"index\": 1,\n",
      "      \"tag\": \"div\",\n",
      "      \"text\": \"<div/>\",\n",
      "      \"sub_element_index\": [\n",
      "        2,\n",
      "        3,\n",
      "        4,\n",
      "        5,\n",
      "        6,\n",
      "        7,\n",
      "        8,\n",
      "        9,\n",
      "        10,\n",
      "        11,\n",
      "        12,\n",
      "        13,\n",
      "        14,\n",
      "        15,\n",
      "        16\n",
      "      ]\n",
      "    },\n",
      "    {\n",
      "      \"index\": 0,\n",
      "      \"tag\": \"div\",\n",
      "      \"text\": \"<div/>\",\n",
      "      \"sub_element_index\": [\n",
      "        1,\n",
      "        2,\n",
      "        3,\n",
      "        4,\n",
      "        5,\n",
      "        6,\n",
      "        7,\n",
      "        8,\n",
      "        9,\n",
      "        10,\n",
      "        11,\n",
      "        12,\n",
      "        13,\n",
      "        14,\n",
      "        15,\n",
      "        16\n",
      "      ]\n",
      "    }\n",
      "  ],\n",
      "  \"vision_answer\": \"\\u8fd9\\u4e2a\\u7f51\\u9875\\u662f\\u4e00\\u4e2a\\u767b\\u5f55\\u9875\\u9762\\uff0c\\u770b\\u8d77\\u6765\\u662f Rocket.Chat \\u7684\\u5e73\\u53f0\\u3002\\u9875\\u9762\\u5305\\u542b\\u4ee5\\u4e0b\\u5143\\u7d20\\uff1a\\n\\n1. Rocket.Chat \\u7684\\u6807\\u5fd7\\u3002\\n2. \\u4e24\\u4e2a\\u8f93\\u5165\\u6846\\uff0c\\u4e00\\u4e2a\\u7528\\u4e8e\\u8f93\\u5165\\u7535\\u5b50\\u90ae\\u4ef6\\u6216\\u7528\\u6237\\u540d\\uff0c\\u53e6\\u4e00\\u4e2a\\u7528\\u4e8e\\u5bc6\\u7801\\u3002\\n3. \\u4e00\\u4e2a\\u767b\\u5f55\\u6309\\u94ae\\u3002\\n4. \\u94fe\\u63a5\\uff0c\\u7528\\u4e8e\\u627e\\u56de\\u5bc6\\u7801\\u3002\\n5. \\u94fe\\u63a5\\uff0c\\u7528\\u4e8e\\u6ce8\\u518c\\u65b0\\u8d26\\u6237\\u3002\\n6. \\u9875\\u811a\\u5305\\u542b\\u670d\\u52a1\\u6761\\u6b3e\\u3001\\u9690\\u79c1\\u653f\\u7b56\\u548c\\u6cd5\\u5f8b\\u901a\\u77e5\\u7684\\u94fe\\u63a5\\u3002\\n\\n\\u6574\\u4e2a\\u9875\\u9762\\u8bbe\\u8ba1\\u7b80\\u6d01\\uff0c\\u4ee5\\u767b\\u5f55\\u4e3a\\u4e3b\\u8981\\u529f\\u80fd\\u3002\"\n",
      "}\n",
      "============== BROWSER INFO END ==============\n"
     ]
    }
   ],
   "execution_count": 4
  }
 ],
 "metadata": {
  "kernelspec": {
   "display_name": "Python 3",
   "language": "python",
   "name": "python3"
  },
  "language_info": {
   "codemirror_mode": {
    "name": "ipython",
    "version": 2
   },
   "file_extension": ".py",
   "mimetype": "text/x-python",
   "name": "python",
   "nbconvert_exporter": "python",
   "pygments_lexer": "ipython2",
   "version": "2.7.6"
  }
 },
 "nbformat": 4,
 "nbformat_minor": 5
}
