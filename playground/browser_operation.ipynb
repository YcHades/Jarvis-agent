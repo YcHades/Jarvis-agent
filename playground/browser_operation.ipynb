{
 "cells": [
  {
   "cell_type": "code",
   "id": "initial_id",
   "metadata": {
    "collapsed": true,
    "ExecuteTime": {
     "end_time": "2025-07-18T02:35:17.783956Z",
     "start_time": "2025-07-18T02:35:12.871267Z"
    }
   },
   "source": [
    "import os\n",
    "os.chdir('../')\n",
    "\n",
    "from toolbox.browse import BrowserUseLight\n",
    "\n",
    "browser = BrowserUseLight()\n",
    "await browser._init_browser_session()"
   ],
   "outputs": [
    {
     "name": "stderr",
     "output_type": "stream",
     "text": [
      "/home/yangcheng/miniconda3/envs/jarvis/lib/python3.12/site-packages/requests/__init__.py:86: RequestsDependencyWarning: Unable to find acceptable character detection dependency (chardet or charset_normalizer).\n",
      "  warnings.warn(\n"
     ]
    },
    {
     "name": "stdout",
     "output_type": "stream",
     "text": [
      "INFO     [browser_use.BrowserSession🆂 95b8:None #60] 🎭 Launching new local browser playwright:chromium keep_alive=True user_data_dir= ~/.config/browseruse/profiles/default\n",
      "INFO     [browser_use.BrowserSession🆂 95b8:None #60]  ↳ Spawning Chrome subprocess listening on CDP http://127.0.0.1:41497/ with user_data_dir= ~/.config/browseruse/profiles/default\n",
      "INFO     [browser_use.BrowserSession🆂 95b8:41497 #60] 🌎 Connecting to newly spawned browser via CDP http://127.0.0.1:41497/ -> browser_pid=1201488 (local)\n",
      "INFO     [browser_use.telemetry.service] Anonymized telemetry enabled. See https://docs.browser-use.com/development/telemetry for more information.\n"
     ]
    }
   ],
   "execution_count": 1
  },
  {
   "metadata": {
    "ExecuteTime": {
     "end_time": "2025-07-18T02:35:22.894555Z",
     "start_time": "2025-07-18T02:35:21.709359Z"
    }
   },
   "cell_type": "code",
   "source": "await browser._navigate(url='http://localhost:3000')",
   "id": "c4cd942fcd098bed",
   "outputs": [
    {
     "data": {
      "text/plain": [
       "'Navigated to: http://localhost:3000'"
      ]
     },
     "execution_count": 2,
     "metadata": {},
     "output_type": "execute_result"
    }
   ],
   "execution_count": 2
  },
  {
   "metadata": {},
   "cell_type": "code",
   "source": "await browser._extract_content('我如何发送消息', True)",
   "id": "aa51453b17ee87ea",
   "outputs": [],
   "execution_count": null
  },
  {
   "metadata": {},
   "cell_type": "code",
   "source": "await browser._type_text(72, \"你好\")",
   "id": "70c347686a02c815",
   "outputs": [],
   "execution_count": null
  },
  {
   "metadata": {},
   "cell_type": "code",
   "source": "await browser._click(34)",
   "id": "7f023e60987a8458",
   "outputs": [],
   "execution_count": null
  },
  {
   "metadata": {},
   "cell_type": "code",
   "source": "await browser._send_keys('Control+A')",
   "id": "c00c37459d506d8e",
   "outputs": [],
   "execution_count": null
  },
  {
   "metadata": {
    "ExecuteTime": {
     "end_time": "2025-07-18T02:35:59.356229Z",
     "start_time": "2025-07-18T02:35:53.088258Z"
    }
   },
   "cell_type": "code",
   "source": [
    "x = await browser._get_browser_state(\"网页中有什么\")\n",
    "print(x)"
   ],
   "id": "3bd15df8dfe0b93a",
   "outputs": [
    {
     "name": "stdout",
     "output_type": "stream",
     "text": [
      "INFO     [browser_use.BrowserSession🆂 95b8:41497 #60] ➡️ Page navigation [0]localhost:3000/home took 0.51s\n",
      "============== BROWSER INFO BEGIN ==============\n",
      "{\n",
      "  \"url\": \"http://localhost:3000/home\",\n",
      "  \"title\": \"Rocket.Chat\",\n",
      "  \"tabs\": [\n",
      "    {\n",
      "      \"url\": \"http://localhost:3000/home\",\n",
      "      \"title\": \"Rocket.Chat\"\n",
      "    }\n",
      "  ],\n",
      "  \"interactive_elements\": [\n",
      "    {\n",
      "      \"index\": 3,\n",
      "      \"tag\": \"a\",\n",
      "      \"text\": \"<a/>\",\n",
      "      \"sub_element_index\": [],\n",
      "      \"href\": \"/\"\n",
      "    },\n",
      "    {\n",
      "      \"index\": 2,\n",
      "      \"tag\": \"div\",\n",
      "      \"text\": \"<div/>\",\n",
      "      \"sub_element_index\": [\n",
      "        3\n",
      "      ]\n",
      "    },\n",
      "    {\n",
      "      \"index\": 6,\n",
      "      \"tag\": \"input\",\n",
      "      \"text\": \"<input name=emailOrUsername type=text placeholder=Email or userna.../>\",\n",
      "      \"sub_element_index\": [],\n",
      "      \"placeholder\": \"Email or username\"\n",
      "    },\n",
      "    {\n",
      "      \"index\": 5,\n",
      "      \"tag\": \"label\",\n",
      "      \"text\": \"<label/>\",\n",
      "      \"sub_element_index\": [\n",
      "        6\n",
      "      ]\n",
      "    },\n",
      "    {\n",
      "      \"index\": 8,\n",
      "      \"tag\": \"input\",\n",
      "      \"text\": \"<input name=pass type=password placeholder=Password/>\",\n",
      "      \"sub_element_index\": [],\n",
      "      \"placeholder\": \"Password\"\n",
      "    },\n",
      "    {\n",
      "      \"index\": 7,\n",
      "      \"tag\": \"label\",\n",
      "      \"text\": \"<label/>\",\n",
      "      \"sub_element_index\": [\n",
      "        8\n",
      "      ]\n",
      "    },\n",
      "    {\n",
      "      \"index\": 9,\n",
      "      \"tag\": \"button\",\n",
      "      \"text\": \"<button >Login/>\",\n",
      "      \"sub_element_index\": []\n",
      "    },\n",
      "    {\n",
      "      \"index\": 10,\n",
      "      \"tag\": \"button\",\n",
      "      \"text\": \"<button type=button>Forgot your password?/>\",\n",
      "      \"sub_element_index\": []\n",
      "    },\n",
      "    {\n",
      "      \"index\": 11,\n",
      "      \"tag\": \"button\",\n",
      "      \"text\": \"<button type=button>Register a new account/>\",\n",
      "      \"sub_element_index\": []\n",
      "    },\n",
      "    {\n",
      "      \"index\": 4,\n",
      "      \"tag\": \"form\",\n",
      "      \"text\": \"<form/>\",\n",
      "      \"sub_element_index\": [\n",
      "        5,\n",
      "        6,\n",
      "        7,\n",
      "        8,\n",
      "        9,\n",
      "        10,\n",
      "        11\n",
      "      ]\n",
      "    },\n",
      "    {\n",
      "      \"index\": 12,\n",
      "      \"tag\": \"a\",\n",
      "      \"text\": \"<a >Terms of Service/>\",\n",
      "      \"sub_element_index\": [],\n",
      "      \"href\": \"terms-of-service\"\n",
      "    },\n",
      "    {\n",
      "      \"index\": 13,\n",
      "      \"tag\": \"a\",\n",
      "      \"text\": \"<a >Privacy Policy/>\",\n",
      "      \"sub_element_index\": [],\n",
      "      \"href\": \"privacy-policy\"\n",
      "    },\n",
      "    {\n",
      "      \"index\": 14,\n",
      "      \"tag\": \"a\",\n",
      "      \"text\": \"<a >Legal Notice/>\",\n",
      "      \"sub_element_index\": [],\n",
      "      \"href\": \"legal-notice\"\n",
      "    },\n",
      "    {\n",
      "      \"index\": 15,\n",
      "      \"tag\": \"a\",\n",
      "      \"text\": \"<a >Open Source Chat Platform Rocket.Chat/>\",\n",
      "      \"sub_element_index\": [],\n",
      "      \"href\": \"https://rocket.chat\"\n",
      "    },\n",
      "    {\n",
      "      \"index\": 16,\n",
      "      \"tag\": \"div\",\n",
      "      \"text\": \"<div/>\",\n",
      "      \"sub_element_index\": []\n",
      "    },\n",
      "    {\n",
      "      \"index\": 1,\n",
      "      \"tag\": \"div\",\n",
      "      \"text\": \"<div/>\",\n",
      "      \"sub_element_index\": [\n",
      "        2,\n",
      "        3,\n",
      "        4,\n",
      "        5,\n",
      "        6,\n",
      "        7,\n",
      "        8,\n",
      "        9,\n",
      "        10,\n",
      "        11,\n",
      "        12,\n",
      "        13,\n",
      "        14,\n",
      "        15,\n",
      "        16\n",
      "      ]\n",
      "    },\n",
      "    {\n",
      "      \"index\": 0,\n",
      "      \"tag\": \"div\",\n",
      "      \"text\": \"<div/>\",\n",
      "      \"sub_element_index\": [\n",
      "        1,\n",
      "        2,\n",
      "        3,\n",
      "        4,\n",
      "        5,\n",
      "        6,\n",
      "        7,\n",
      "        8,\n",
      "        9,\n",
      "        10,\n",
      "        11,\n",
      "        12,\n",
      "        13,\n",
      "        14,\n",
      "        15,\n",
      "        16\n",
      "      ]\n",
      "    }\n",
      "  ],\n",
      "  \"vision_answer\": \"\\u8fd9\\u4e2a\\u7f51\\u9875\\u662f\\u4e00\\u4e2a\\u767b\\u5f55\\u9875\\u9762\\uff0c\\u770b\\u8d77\\u6765\\u662f Rocket.Chat \\u7684\\u5e73\\u53f0\\u3002\\u9875\\u9762\\u5305\\u542b\\u4ee5\\u4e0b\\u5143\\u7d20\\uff1a\\n\\n1. Rocket.Chat \\u7684\\u6807\\u5fd7\\u3002\\n2. \\u4e24\\u4e2a\\u8f93\\u5165\\u6846\\uff0c\\u4e00\\u4e2a\\u7528\\u4e8e\\u8f93\\u5165\\u7535\\u5b50\\u90ae\\u4ef6\\u6216\\u7528\\u6237\\u540d\\uff0c\\u53e6\\u4e00\\u4e2a\\u7528\\u4e8e\\u5bc6\\u7801\\u3002\\n3. \\u4e00\\u4e2a\\u767b\\u5f55\\u6309\\u94ae\\u3002\\n4. \\u94fe\\u63a5\\uff0c\\u7528\\u4e8e\\u627e\\u56de\\u5bc6\\u7801\\u3002\\n5. \\u94fe\\u63a5\\uff0c\\u7528\\u4e8e\\u6ce8\\u518c\\u65b0\\u8d26\\u6237\\u3002\\n6. \\u9875\\u811a\\u5305\\u542b\\u670d\\u52a1\\u6761\\u6b3e\\u3001\\u9690\\u79c1\\u653f\\u7b56\\u548c\\u6cd5\\u5f8b\\u901a\\u77e5\\u7684\\u94fe\\u63a5\\u3002\\n\\n\\u6574\\u4e2a\\u9875\\u9762\\u8bbe\\u8ba1\\u7b80\\u6d01\\uff0c\\u4ee5\\u767b\\u5f55\\u4e3a\\u4e3b\\u8981\\u529f\\u80fd\\u3002\"\n",
      "}\n",
      "============== BROWSER INFO END ==============\n"
     ]
    }
   ],
   "execution_count": 4
  }
 ],
 "metadata": {
  "kernelspec": {
   "display_name": "Python 3",
   "language": "python",
   "name": "python3"
  },
  "language_info": {
   "codemirror_mode": {
    "name": "ipython",
    "version": 2
   },
   "file_extension": ".py",
   "mimetype": "text/x-python",
   "name": "python",
   "nbconvert_exporter": "python",
   "pygments_lexer": "ipython2",
   "version": "2.7.6"
  }
 },
 "nbformat": 4,
 "nbformat_minor": 5
}
